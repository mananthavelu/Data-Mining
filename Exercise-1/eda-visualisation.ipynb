{
 "cells": [
  {
   "cell_type": "markdown",
   "metadata": {},
   "source": [
    "# Overview\n",
    "The goal of this session is to get familiar with core data mining tasks and the data mining process without diving into the details of how algorithms work. The exercises can be done in groups of 4-5 people.\n",
    "\n",
    "# Exploratory data analysis\n",
    "In this session, we use a number of tools from Python's data analysis stack. `Pandas` provides `DataFrame` data structure that facilitates manipulating tabular data. The following snippet loads a CSV file and prints attribute names and types. You can have a look at the few first rows of the dataset using the `head` function:"
   ]
  },
  {
   "cell_type": "code",
   "execution_count": null,
   "metadata": {
    "collapsed": false
   },
   "outputs": [],
   "source": [
    "# Install a missing package\n",
    "# Please, restart the kernel afterwards: menu -> Kernel -> Restart & Clear Output\n",
    "# This cell can be deleted afterwards\n",
    "\n",
    "!pip install seaborn --user"
   ]
  },
  {
   "cell_type": "code",
   "execution_count": null,
   "metadata": {
    "collapsed": false
   },
   "outputs": [],
   "source": [
    "import pandas as pd, numpy as np\n",
    "\n",
    "eda_data = pd.read_csv('eda.csv', na_values=['?'])\n",
    "\n",
    "print(str(eda_data.shape[0]) + ' records')\n",
    "print(str(eda_data.columns.size) + ' attributes:')\n",
    "\n",
    "eda_types = eda_data.dtypes\n",
    "print(eda_types)\n",
    "\n",
    "eda_data.head()"
   ]
  },
  {
   "cell_type": "markdown",
   "metadata": {},
   "source": [
    "## Visualisation\n",
    "Visualisation is the primary way to get high-level understanding of the data. We use `Matplotlib` as the plotting engine, whereas `Seaborn` provides a plethora of convenient shortcuts to most common plotting tasks. The following snippet initialises these packages."
   ]
  },
  {
   "cell_type": "code",
   "execution_count": null,
   "metadata": {
    "collapsed": false
   },
   "outputs": [],
   "source": [
    "%matplotlib inline\n",
    "from matplotlib import pyplot as plt\n",
    "import seaborn as sns\n",
    "sns.set(color_codes=True)"
   ]
  },
  {
   "cell_type": "markdown",
   "metadata": {},
   "source": [
    "### Individual attributes\n",
    "The basic tool for visualising **categorical** attributes is a histogram, which shows frequencies of individual values of an attribute. The following snippet uses `countplot` to plot a histogram of each categorical attribute in the data."
   ]
  },
  {
   "cell_type": "code",
   "execution_count": null,
   "metadata": {
    "collapsed": false,
    "scrolled": true
   },
   "outputs": [],
   "source": [
    "categorical_attrs = list(eda_types[eda_types == 'object'].index)\n",
    "for attr_name in categorical_attrs[0:1]:\n",
    "    plt.figure()\n",
    "    \n",
    "    attr_data = eda_data[attr_name]\n",
    "    missing_count = np.count_nonzero(attr_data.isnull().values)\n",
    "    \n",
    "    # Rotate the label of the vertical axis\n",
    "    # so that it's easy to read\n",
    "    plot = sns.countplot(x=attr_name, data=eda_data)\n",
    "    plot.set_title(attr_name + '\\nMissing: ' + str(missing_count))\n",
    "    plot.set_xlabel(' ')\n",
    "    plot.set_ylabel('Count')\n",
    "    plot.yaxis.label.set_rotation(0)\n",
    "plt.draw()"
   ]
  },
  {
   "cell_type": "markdown",
   "metadata": {},
   "source": [
    "The distribution of an individual **numeric** attribute can be discretised and visualised with a histogram using `distplot`. Alternatively, a `boxplot` visualises a five-point summary (min, the 25th percentile, median, the 75th percentile, and max) along with outliers."
   ]
  },
  {
   "cell_type": "code",
   "execution_count": null,
   "metadata": {
    "collapsed": false,
    "scrolled": true
   },
   "outputs": [],
   "source": [
    "from matplotlib.ticker import MaxNLocator\n",
    "\n",
    "numeric_attrs = list(eda_types[(eda_types == 'int64') | (eda_types=='float64')].index)\n",
    "for attr_name in numeric_attrs[3:4]:\n",
    "    # Create a figure with two subfigures that share an X axis\n",
    "    f, (ax_hist, ax_box) = plt.subplots(2, sharex=True, \n",
    "                                           gridspec_kw={\"height_ratios\": (.9, .1)})\n",
    "\n",
    "    attr_data = eda_data[attr_name]\n",
    "    # Compute basic attribute summaries\n",
    "    min = attr_data.min()\n",
    "    mean = attr_data.mean()\n",
    "    median = attr_data.median()\n",
    "    max = attr_data.max()\n",
    "    std_dev = attr_data.std()\n",
    "    missing_count = np.count_nonzero(attr_data.isnull().values)\n",
    "    \n",
    "    # `dropna()` removes missing values from consideration\n",
    "    distplot = sns.distplot(eda_data[attr_name].dropna(), kde=True, rug=False, axlabel=False, ax=ax_hist)\n",
    "    \n",
    "    # - Put the attribute name and stats in the title\n",
    "    # - Keep only integer tics\n",
    "    distplot.set_title(attr_name + '\\n' + \n",
    "                   'Min: '         + str(min)               + '   ' +\n",
    "                   'Avg: '         + str(round(mean, 2))    + '   ' +\n",
    "                   'Std.dev: '     + str(round(std_dev, 2)) + '   ' +\n",
    "                   'Median: '      + str(median)            + '   ' +\n",
    "                   'Max: '         + str(max)               + '   ' +\n",
    "                   'Missing: '     + str(missing_count))\n",
    "    distplot.xaxis.set_major_locator(MaxNLocator(integer=True))\n",
    "    \n",
    "    boxplot = sns.boxplot(attr_data, ax=ax_box)\n",
    "    boxplot.set_xlabel(' ')"
   ]
  },
  {
   "cell_type": "markdown",
   "metadata": {},
   "source": [
    "### Pairs of attributes\n",
    "\n",
    "Pairwise attribute relationships can be visualised with variations of a scatter plot. Furthermore, the third variable can be brought into the mix via colouring data points. Explore options for visualising a pair of categorical attributes, a pair of numeric attributes, and a mixed pair."
   ]
  },
  {
   "cell_type": "code",
   "execution_count": null,
   "metadata": {
    "collapsed": false
   },
   "outputs": [],
   "source": [
    "grid = sns.factorplot(data=eda_data,y='diagnosis',col='hospital',kind='count')\n",
    "\n",
    "grid.axes[0,0].yaxis.label.set_rotation(0)\n",
    "grid.axes[0,0].yaxis.labelpad = 25\n",
    "\n",
    "plt.subplots_adjust(top=0.87)\n",
    "grid.fig.suptitle('Pair of categorical attributes')"
   ]
  },
  {
   "cell_type": "code",
   "execution_count": null,
   "metadata": {
    "collapsed": false
   },
   "outputs": [],
   "source": [
    "grid = sns.FacetGrid(size=7, data=eda_data, hue=None)\n",
    "grid.map(plt.scatter, \"height\", \"bmi\")\n",
    "\n",
    "plt.subplots_adjust(top=0.95)\n",
    "grid.fig.suptitle('Pair of numeric attributes')\n",
    "\n",
    "grid.ax.yaxis.label.set_rotation(0)"
   ]
  },
  {
   "cell_type": "code",
   "execution_count": null,
   "metadata": {
    "collapsed": false
   },
   "outputs": [],
   "source": [
    "plot = sns.stripplot(data=eda_data, x=\"age\", y=\"hospital\", jitter=True)\n",
    "plot.set_title('Mixed categorical/numeric plot')\n",
    "plot.yaxis.label.set_rotation(0)\n",
    "plot.yaxis.labelpad = 25"
   ]
  },
  {
   "cell_type": "code",
   "execution_count": null,
   "metadata": {
    "collapsed": true
   },
   "outputs": [],
   "source": []
  }
 ],
 "metadata": {
  "git": {
   "suppress_outputs": true
  },
  "kernelspec": {
   "display_name": "Python 3",
   "language": "python",
   "name": "python3"
  },
  "language_info": {
   "codemirror_mode": {
    "name": "ipython",
    "version": 3
   },
   "file_extension": ".py",
   "mimetype": "text/x-python",
   "name": "python",
   "nbconvert_exporter": "python",
   "pygments_lexer": "ipython3",
   "version": "3.5.1"
  }
 },
 "nbformat": 4,
 "nbformat_minor": 0
}
