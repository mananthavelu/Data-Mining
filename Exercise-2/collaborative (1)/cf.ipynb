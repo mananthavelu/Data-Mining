{
 "cells": [
  {
   "cell_type": "markdown",
   "metadata": {},
   "source": [
    "Make your own recommender system\n",
    "--------------------------------\n",
    "\n",
    "In the following, you will implement the formulas from section 3 of the handouts, and use them to create a simple recommender system.\n",
    "\n",
    "### Load the data\n",
    "The file `u.data` contains the ratings of 100,000 movies by many users. It has 4 fields : `user_id`, `movie_id`, `rating`, and `timestamp`. Load the data file into a pandas DataFrame:"
   ]
  },
  {
   "cell_type": "code",
   "execution_count": null,
   "metadata": {
    "collapsed": false,
    "scrolled": false
   },
   "outputs": [],
   "source": [
    "import pandas as pd\n",
    "ratings = pd.read_csv ('u.data') \n",
    "\n",
    "# We don't need the column timestamp, so we drop it\n",
    "ratings.drop('timestamp', axis=1 , inplace=True)\n",
    "print ('Ratings data loaded, size=', ratings.shape)\n",
    "\n",
    "ratings.head()"
   ]
  },
  {
   "cell_type": "markdown",
   "metadata": {},
   "source": [
    "### Enter the profile\n",
    "\n",
    "We need the previous ratings given by a user to predict a new rating for that user. Using IDs from this [collection](https://people.cs.kuleuven.be/~albrecht.zimmermann/movie-names-well-formatted.html), enter ratings for 20 movies into a list named `profile`. You will later use this list to predict the rating for a new movie. Remember that these ratings should be all given by the same individual.\n",
    "\n",
    "Each item in `profile` is a `(movie_id, rating)` tuple."
   ]
  },
  {
   "cell_type": "code",
   "execution_count": null,
   "metadata": {
    "collapsed": false
   },
   "outputs": [],
   "source": [
    "profile = [\n",
    "#   (movie1, rating1),\n",
    "#   (movie2, rating2),\n",
    "#   (movie3, rating3),\n",
    "#   (movie4, rating4),\n",
    "#   ...    \n",
    "]\n",
    "\n",
    "# convert to Pandas DataFrame\n",
    "profile = pd.DataFrame(profile, columns=['item_id', 'rating'])\n",
    "profile"
   ]
  },
  {
   "cell_type": "markdown",
   "metadata": {},
   "source": [
    "### Breaking down the job\n",
    "\n",
    "Our goal in the following sections is to implement a function that predicts the rating for an unrated movie using collaborative filtering.According to the formulas in section 3, we can decompose this into three tasks:\n",
    "\n",
    "- To find all users that have rated the queried movie. This is the set $\\{v : i \\in I_v \\}$ in equation (1) of exercise (3). We will call these users *co-raters*. \n",
    "- To compute the similarity of two users, that is to compute $w(u, v)$ in equation (2) of exercise (3).\n",
    "- To predict the rating for an unrated movie.\n",
    "\n",
    "You will implement three functions corresponding to these three tasks. "
   ]
  },
  {
   "cell_type": "markdown",
   "metadata": {},
   "source": [
    "### Find co-raters\n",
    "\n",
    "Implement a function that given an item and a database of ratings, finds all users that have rated that item. Test your futnction on `ratings` data."
   ]
  },
  {
   "cell_type": "code",
   "execution_count": null,
   "metadata": {
    "collapsed": true
   },
   "outputs": [],
   "source": [
    "def co_raters (movie_id, rating_data):\n",
    "    # return the co-raters as a list or Pandas Series"
   ]
  },
  {
   "cell_type": "markdown",
   "metadata": {},
   "source": [
    "### Compute the similarity\n",
    "\n",
    "In general, we need a function that given two users $u, v$ and a database of ratings, finds the Pearson correlation between the two users. However, the goal of this session is to give recommendations based on ratings that you have entered in the list `profile`. \n",
    "\n",
    "Implement a function that computes the similarity between the given `profile` and a user $v$. \n",
    "\n",
    "**Hint for Pandas users:** *The weights are computed based on ratings of movies rated by both $u$ and $v$. An inner join can be useful to conveniently isolate the relevant entries. See [Merging](http://pandas.pydata.org/pandas-docs/stable/merging.html).*"
   ]
  },
  {
   "cell_type": "code",
   "execution_count": null,
   "metadata": {
    "collapsed": false
   },
   "outputs": [],
   "source": [
    "def similarity (profile, v, rating_data):\n",
    "    # return the similarity between u and v"
   ]
  },
  {
   "cell_type": "markdown",
   "metadata": {},
   "source": [
    "### Predict the rating for a movie\n",
    "\n",
    "Implement a function that given a database of ratings, a user profile, and an unrated movie, predicts a rating for that movie. This function computes $\\hat{R}_{(u,i)}$ in equation (1) of exercise (3). "
   ]
  },
  {
   "cell_type": "code",
   "execution_count": null,
   "metadata": {
    "collapsed": true
   },
   "outputs": [],
   "source": [
    "def predict (movie_id, rating_data, profile):\n",
    "    # return the predicted rating for movie_id"
   ]
  },
  {
   "cell_type": "markdown",
   "metadata": {},
   "source": [
    "Use this function and the profile that you created earlier to predict the rating for an unrated movied. \n",
    "\n",
    "Try your program on the movies that you earlier entered in the `profile` dataframe."
   ]
  }
 ],
 "metadata": {
  "kernelspec": {
   "display_name": "Python 3",
   "language": "python",
   "name": "python3"
  },
  "language_info": {
   "codemirror_mode": {
    "name": "ipython",
    "version": 3
   },
   "file_extension": ".py",
   "mimetype": "text/x-python",
   "name": "python",
   "nbconvert_exporter": "python",
   "pygments_lexer": "ipython3",
   "version": "3.6.0"
  }
 },
 "nbformat": 4,
 "nbformat_minor": 0
}
